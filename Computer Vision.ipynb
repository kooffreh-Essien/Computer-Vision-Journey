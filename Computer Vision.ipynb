{
 "cells": [
  {
   "cell_type": "markdown",
   "id": "c63a745a",
   "metadata": {},
   "source": [
    "## INTRODUCTION TO COMPUTER VISION"
   ]
  },
  {
   "cell_type": "code",
   "execution_count": 1,
   "id": "515d1780",
   "metadata": {},
   "outputs": [],
   "source": [
    "#import libraries\n",
    "import numpy as np\n",
    "import matplotlib.pyplot as plt\n",
    "\n",
    "#python imaging library\n",
    "from PIL import Image"
   ]
  },
  {
   "cell_type": "code",
   "execution_count": null,
   "id": "863e9492",
   "metadata": {},
   "outputs": [],
   "source": [
    "#Load image\n",
    "buhari = Image.open('buhari.jpg')\n",
    "buhari"
   ]
  },
  {
   "cell_type": "code",
   "execution_count": null,
   "id": "fdb1e4bc",
   "metadata": {},
   "outputs": [],
   "source": [
    "type(buhari)\n"
   ]
  },
  {
   "cell_type": "code",
   "execution_count": null,
   "id": "4196373c",
   "metadata": {},
   "outputs": [],
   "source": [
    "#transform image into numpy array\n",
    "buhari = np.asarray(buhari)\n",
    "type(buhari)"
   ]
  },
  {
   "cell_type": "code",
   "execution_count": null,
   "id": "64e1f71b",
   "metadata": {},
   "outputs": [],
   "source": [
    "plt.imshow(buhari)"
   ]
  },
  {
   "cell_type": "code",
   "execution_count": null,
   "id": "4bd81aa0",
   "metadata": {},
   "outputs": [],
   "source": [
    "# Dimensionality - Height,Width,Color Channel(RGB)\n",
    "buhari.shape"
   ]
  },
  {
   "cell_type": "code",
   "execution_count": null,
   "id": "30b652e0",
   "metadata": {},
   "outputs": [],
   "source": [
    "#RED = (Red=0, Green=1, Blue=2)\n",
    "plt.imshow(buhari[:, :, 0])"
   ]
  },
  {
   "cell_type": "code",
   "execution_count": null,
   "id": "7c571b31",
   "metadata": {},
   "outputs": [],
   "source": [
    "#Green = (Red=0, Green=1, Blue=2)\n",
    "plt.imshow(buhari[:, :, 1])"
   ]
  },
  {
   "cell_type": "code",
   "execution_count": null,
   "id": "1af9b49a",
   "metadata": {},
   "outputs": [],
   "source": [
    "#Blue = (Red=0, Green=1, Blue=2)\n",
    "plt.imshow(buhari[:, :, 2])"
   ]
  },
  {
   "cell_type": "code",
   "execution_count": null,
   "id": "050a972f",
   "metadata": {},
   "outputs": [],
   "source": [
    "#Convert image from coloured to Grayscale\n",
    "#Red\n",
    "plt.imshow(buhari[:, :, 0],cmap='gray')"
   ]
  },
  {
   "cell_type": "code",
   "execution_count": null,
   "id": "ecd9021d",
   "metadata": {},
   "outputs": [],
   "source": [
    "#Green\n",
    "plt.imshow(buhari[:, :, 1],cmap='gray')"
   ]
  },
  {
   "cell_type": "code",
   "execution_count": null,
   "id": "4b263450",
   "metadata": {},
   "outputs": [],
   "source": [
    "#Blue\n",
    "plt.imshow(buhari[:, :, 2],cmap='gray')"
   ]
  },
  {
   "cell_type": "code",
   "execution_count": null,
   "id": "065c7acd",
   "metadata": {},
   "outputs": [],
   "source": [
    "#Take out the colors - RED\n",
    "\n",
    "#make a copy of the original picture\n",
    "bubu_r = buhari.copy()\n",
    "\n",
    "#take out red from the picture\n",
    "bubu_r[:, :, 0] = 0\n",
    "\n",
    "plt.imshow(bubu_r)"
   ]
  },
  {
   "cell_type": "code",
   "execution_count": null,
   "id": "a1681557",
   "metadata": {},
   "outputs": [],
   "source": [
    "#Take out the colors - GREEN\n",
    "\n",
    "#make a copy of the original picture\n",
    "bubu_g = buhari.copy()\n",
    "\n",
    "#take out green from the picture\n",
    "bubu_g[:, :, 1] = 0\n",
    "\n",
    "plt.imshow(bubu_g)"
   ]
  },
  {
   "cell_type": "code",
   "execution_count": null,
   "id": "6ece92ca",
   "metadata": {},
   "outputs": [],
   "source": [
    "#Take out the colors - BLUE\n",
    "\n",
    "#make a copy of the original picture\n",
    "bubu_b = buhari.copy()\n",
    "\n",
    "#take out green from the picture\n",
    "bubu_b[:, :, 2] = 0\n",
    "\n",
    "plt.imshow(bubu_b)"
   ]
  },
  {
   "cell_type": "markdown",
   "id": "0188820a",
   "metadata": {},
   "source": [
    "### OPEN CV - Open Source Computer Vision\n",
    "- Contains many popular algorithms that is used for computer vision, object detection and tracking."
   ]
  },
  {
   "cell_type": "code",
   "execution_count": null,
   "id": "ff414f15",
   "metadata": {},
   "outputs": [],
   "source": [
    "# Install Open CV\n",
    "!pip install opencv-python\n"
   ]
  },
  {
   "cell_type": "code",
   "execution_count": null,
   "id": "07971e70",
   "metadata": {},
   "outputs": [],
   "source": [
    "import cv2"
   ]
  },
  {
   "cell_type": "code",
   "execution_count": null,
   "id": "929e413a",
   "metadata": {},
   "outputs": [],
   "source": [
    "buhari = cv2.imread('buhari.jpg')\n",
    "type(buhari)"
   ]
  },
  {
   "cell_type": "code",
   "execution_count": null,
   "id": "25bd9d58",
   "metadata": {},
   "outputs": [],
   "source": [
    "# Dimensionality\n",
    "buhari.shape"
   ]
  },
  {
   "cell_type": "code",
   "execution_count": null,
   "id": "2f49b6f5",
   "metadata": {},
   "outputs": [],
   "source": [
    "# Plot the image - OPENCV uses BGR instead of RGB\n",
    "plt.imshow(buhari)"
   ]
  },
  {
   "cell_type": "code",
   "execution_count": null,
   "id": "0dd38297",
   "metadata": {},
   "outputs": [],
   "source": [
    "# Convert the image from BGR to RGB\n",
    "\n",
    "bubu = cv2.cvtColor(buhari, cv2.COLOR_BGR2RGB)\n",
    "plt.imshow(bubu)"
   ]
  },
  {
   "cell_type": "code",
   "execution_count": null,
   "id": "b514c2e3",
   "metadata": {},
   "outputs": [],
   "source": [
    "# Resizing the image - width, height\n",
    "plt.imshow(cv2.resize(bubu, (100,130)))"
   ]
  },
  {
   "cell_type": "code",
   "execution_count": null,
   "id": "e2b93d07",
   "metadata": {},
   "outputs": [],
   "source": [
    "#Save image in local drive\n",
    "img = cv2.resize(bubu, (100,130))\n",
    "img1 = cv2.cvtColor(img, cv2.COLOR_RGB2BGR)\n",
    "cv2.imwrite(r'C:\\Users\\KOOFFREH\\Pictures\\bubu.jpg', img1)"
   ]
  },
  {
   "cell_type": "code",
   "execution_count": null,
   "id": "5f0eff93",
   "metadata": {},
   "outputs": [],
   "source": [
    "# Resize through %\n",
    "width = 0.5\n",
    "height = 0.5\n",
    "\n",
    "bubu_r = cv2.resize(bubu, (0,0), bubu, width, height)\n",
    "plt.imshow(bubu_r)"
   ]
  },
  {
   "cell_type": "code",
   "execution_count": null,
   "id": "d9fbebfa",
   "metadata": {},
   "outputs": [],
   "source": [
    "# Flipping image \n",
    "bubu_f = cv2.flip(bubu,0)\n",
    "plt.imshow(bubu_f)"
   ]
  },
  {
   "cell_type": "code",
   "execution_count": null,
   "id": "0b057e03",
   "metadata": {},
   "outputs": [],
   "source": [
    "# flipping on the Horizontal axis\n",
    "bubu_d = cv2.flip(bubu,-1)\n",
    "plt.imshow(bubu_d)"
   ]
  },
  {
   "cell_type": "markdown",
   "id": "3a45baaa",
   "metadata": {},
   "source": [
    "### Drawing on image"
   ]
  },
  {
   "cell_type": "code",
   "execution_count": null,
   "id": "d7569e34",
   "metadata": {},
   "outputs": [],
   "source": [
    "# Create a blank canvas\n",
    "\n",
    "blank= np.zeros(shape=(600,600,3), dtype=np.int16)\n",
    "plt.imshow(blank)"
   ]
  },
  {
   "cell_type": "code",
   "execution_count": null,
   "id": "1c4b79dd",
   "metadata": {},
   "outputs": [],
   "source": [
    "# Draw a rectangle - pt1(Top left corner) pt2(bottom right corner)\n",
    "cv2.rectangle(blank,pt1=(200,200), pt2=(400,400), color=(255,0,0), thickness=3)\n",
    "plt.imshow(blank)"
   ]
  },
  {
   "cell_type": "code",
   "execution_count": null,
   "id": "26550cb9",
   "metadata": {},
   "outputs": [],
   "source": [
    "# Draw a rectangle - pt1(Top left corner) pt2(bottom right corner)\n",
    "cv2.rectangle(blank,pt1=(250,250), pt2=(350,350), color=(0,255,0), thickness=3)\n",
    "plt.imshow(blank)"
   ]
  },
  {
   "cell_type": "code",
   "execution_count": null,
   "id": "f90e6cbc",
   "metadata": {},
   "outputs": [],
   "source": [
    "# Draw a circle  (where is the center and how far is it to draw a circle?)\n",
    "cv2.circle(blank, center=(300,300), radius=30, color=(0,0,255), thickness=5)\n",
    "plt.imshow(blank)"
   ]
  },
  {
   "cell_type": "code",
   "execution_count": null,
   "id": "9600be57",
   "metadata": {},
   "outputs": [],
   "source": [
    "cv2.circle(blank, center=(500,50), radius=50, color=(0,0,255), thickness=-1)\n",
    "plt.imshow(blank)"
   ]
  },
  {
   "cell_type": "code",
   "execution_count": null,
   "id": "d599bcb5",
   "metadata": {},
   "outputs": [],
   "source": [
    "blank= np.zeros(shape=(600,600,3), dtype=np.int16)\n",
    "plt.imshow(blank)"
   ]
  },
  {
   "cell_type": "code",
   "execution_count": null,
   "id": "e671665c",
   "metadata": {},
   "outputs": [],
   "source": [
    "cv2.rectangle(blank,pt1=(200,100), pt2=(400,500), color=(0,255,0), thickness=3)\n",
    "plt.imshow(blank)"
   ]
  },
  {
   "cell_type": "code",
   "execution_count": null,
   "id": "de7562fa",
   "metadata": {},
   "outputs": [],
   "source": [
    "# draw black canvas\n",
    "blank= np.zeros(shape=(600,600,3), dtype=np.int16)\n",
    "plt.imshow(blank)"
   ]
  },
  {
   "cell_type": "code",
   "execution_count": null,
   "id": "fab448cf",
   "metadata": {},
   "outputs": [],
   "source": [
    "# Draw rectangle on the black canvas\n",
    "cv2.rectangle(blank,pt1=(150,50), pt2=(450,550), color=(255,255,255), thickness=3)\n",
    "plt.imshow(blank)"
   ]
  },
  {
   "cell_type": "code",
   "execution_count": null,
   "id": "a4fc1e59",
   "metadata": {},
   "outputs": [],
   "source": [
    "# Draw circles inside the rectangle\n",
    "\n",
    "cv2.circle(blank, center=(300,450), radius=50, color=(250,0,0), thickness=-1)\n",
    "cv2.circle(blank, center=(300,150), radius=50, color=(0,100,0), thickness=-1)\n",
    "cv2.circle(blank, center=(300,300), radius=50, color=(255,255,0), thickness=-1)\n",
    "plt.imshow(blank)"
   ]
  },
  {
   "cell_type": "code",
   "execution_count": null,
   "id": "a1a3347d",
   "metadata": {},
   "outputs": [],
   "source": []
  }
 ],
 "metadata": {
  "kernelspec": {
   "display_name": "Python 3 (ipykernel)",
   "language": "python",
   "name": "python3"
  },
  "language_info": {
   "codemirror_mode": {
    "name": "ipython",
    "version": 3
   },
   "file_extension": ".py",
   "mimetype": "text/x-python",
   "name": "python",
   "nbconvert_exporter": "python",
   "pygments_lexer": "ipython3",
   "version": "3.9.12"
  }
 },
 "nbformat": 4,
 "nbformat_minor": 5
}
